{
 "cells": [
  {
   "cell_type": "code",
   "execution_count": null,
   "id": "7498dfd3-e32c-414b-8e12-9b276325c723",
   "metadata": {},
   "outputs": [],
   "source": [
    "# 1. Ask the user for numbers until they enter 0. At the end, print the total sum.\n",
    "total = 0\n",
    "num = float(input(\"Enter a number (0 to stop): \"))\n",
    "while num != 0:\n",
    "    total += num\n",
    "    num = float(input(\"Enter a number (0 to stop): \"))\n",
    "print(\"Total sum:\", total)\n",
    "\n"
   ]
  },
  {
   "cell_type": "code",
   "execution_count": null,
   "id": "06aced6e-cdf7-468e-934f-5a3840f5673d",
   "metadata": {},
   "outputs": [],
   "source": [
    "# 2.Read a password input and keep asking until the correct one is entered (e.g., \"admin123\").\n",
    "password = \"\"\n",
    "while password != \"admin123\":\n",
    "    password = input(\"Enter password: \")\n",
    "print(\"Access granted.\")\n"
   ]
  },
  {
   "cell_type": "code",
   "execution_count": null,
   "id": "bc3f71d4-e586-466d-aefa-6090f0ee19bc",
   "metadata": {},
   "outputs": [],
   "source": [
    "# 3.Count how many numbers the user inputs before typing a negative number.\n",
    "count = 0\n",
    "num = float(input(\"Enter a number (negative to stop): \"))\n",
    "while num >= 0:\n",
    "    count += 1\n",
    "    num = float(input(\"Enter a number (negative to stop): \"))\n",
    "print(\"Total numbers entered:\", count)\n"
   ]
  },
  {
   "cell_type": "code",
   "execution_count": null,
   "id": "056c444d-708c-402a-8388-ff1176178d4e",
   "metadata": {},
   "outputs": [],
   "source": [
    "# 4.Ask for a number and print its multiplication table (1 to 10) using while.\n",
    "n = int(input(\"Enter a number: \"))\n",
    "i = 1\n",
    "while i <= 10:\n",
    "    print(f\"{n} x {i} = {n * i}\")\n",
    "    i += 1\n"
   ]
  },
  {
   "cell_type": "code",
   "execution_count": null,
   "id": "9d814f7a-57e2-4769-a495-bb9ad43801e0",
   "metadata": {},
   "outputs": [],
   "source": [
    "# 5. Keep generating and printing even numbers until you reach 100.\n",
    "i = 2\n",
    "while i <= 100:\n",
    "    print(i)\n",
    "    i += 2\n"
   ]
  },
  {
   "cell_type": "code",
   "execution_count": null,
   "id": "94870cca-717e-4e25-a4c2-7abec9c7da36",
   "metadata": {},
   "outputs": [],
   "source": [
    "# 6. Ask the user to enter positive numbers and print the maximum value entered (stop at -1).\n",
    "max_val = None\n",
    "num = float(input(\"Enter a positive number (-1 to stop): \"))\n",
    "while num != -1:\n",
    "    if max_val is None or num > max_val:\n",
    "        max_val = num\n",
    "    num = float(input(\"Enter a positive number (-1 to stop): \"))\n",
    "print(\"Maximum:\", max_val)\n"
   ]
  },
  {
   "cell_type": "code",
   "execution_count": null,
   "id": "f7d8e913-27ea-41b2-8a35-102d1b55c5cc",
   "metadata": {},
   "outputs": [],
   "source": [
    "# 7.Read a number and calculate its factorial using while.\n",
    "n = int(input(\"Enter a number: \"))\n",
    "result = 1\n",
    "i = 1\n",
    "while i <= n:\n",
    "    result *= i\n",
    "    i += 1\n",
    "print(\"Factorial:\", result)\n"
   ]
  },
  {
   "cell_type": "code",
   "execution_count": null,
   "id": "417caf95-b522-41a9-8805-17a70f5c2924",
   "metadata": {},
   "outputs": [],
   "source": [
    "# 8.Count the number of digits in a number using while.\n",
    "n = int(input(\"Enter a number: \"))\n",
    "count = 0\n",
    "while n != 0:\n",
    "    count += 1\n",
    "    n //= 10\n",
    "print(\"Digits:\", count)\n"
   ]
  },
  {
   "cell_type": "code",
   "execution_count": null,
   "id": "e5f04e20-c363-4cd6-b726-7dc08867ee90",
   "metadata": {},
   "outputs": [],
   "source": [
    "# 9.Reverse the digits of a number using a while loop.\n",
    "n = int(input(\"Enter a number: \"))\n",
    "reverse = 0\n",
    "while n > 0:\n",
    "    reverse = reverse * 10 + n % 10\n",
    "    n //= 10\n",
    "print(\"Reversed number:\", reverse)\n"
   ]
  },
  {
   "cell_type": "code",
   "execution_count": null,
   "id": "f2d4c7fd-dd16-45f1-bafc-edaa044c26ef",
   "metadata": {},
   "outputs": [],
   "source": [
    "# 10.Keep asking the user for a number until they enter one divisible by 3 and 5.\n",
    "n = int(input(\"Enter a number divisible by 3 and 5: \"))\n",
    "while n % 3 != 0 or n % 5 != 0:\n",
    "    n = int(input(\"Try again: \"))\n",
    "print(\"Valid number:\", n)\n"
   ]
  },
  {
   "cell_type": "code",
   "execution_count": null,
   "id": "54b92669-4e76-4970-902a-2d2e21f54914",
   "metadata": {},
   "outputs": [],
   "source": [
    "# 11.Simulate a basic login system (max 3 tries).\n",
    "tries = 0\n",
    "while tries < 3:\n",
    "    pwd = input(\"Enter password: \")\n",
    "    if pwd == \"admin123\":\n",
    "        print(\"Access granted.\")\n",
    "        break\n",
    "    tries += 1\n",
    "else:\n",
    "    print(\"Too many failed attempts.\")\n"
   ]
  },
  {
   "cell_type": "code",
   "execution_count": null,
   "id": "05293ae6-dc9d-4ffd-8ffe-86db11e8720d",
   "metadata": {},
   "outputs": [],
   "source": [
    "# 12.Keep asking for temperatures in Celsius until the user types \"exit\", then print the average.\n",
    "total = 0\n",
    "count = 0\n",
    "entry = input(\"Enter temperature (or 'exit' to stop): \")\n",
    "while entry != \"exit\":\n",
    "    total += float(entry)\n",
    "    count += 1\n",
    "    entry = input(\"Enter temperature (or 'exit' to stop): \")\n",
    "if count > 0:\n",
    "    print(\"Average:\", total / count)\n"
   ]
  },
  {
   "cell_type": "code",
   "execution_count": null,
   "id": "4d11dfbd-3559-43c8-a4a8-7d482a9c616e",
   "metadata": {},
   "outputs": [],
   "source": [
    "# 13. Create a number guessing game (secret number predefined).\n",
    "secret = 7\n",
    "guess = -1\n",
    "while guess != secret:\n",
    "    guess = int(input(\"Guess the number: \"))\n",
    "print(\"Correct!\")\n"
   ]
  },
  {
   "cell_type": "code",
   "execution_count": null,
   "id": "6866ccfc-6607-4045-9d83-6b28950702f0",
   "metadata": {},
   "outputs": [],
   "source": [
    "# 14. Ask the user to enter a number. Print all its divisors using while.\n",
    "n = int(input(\"Enter a number: \"))\n",
    "i = 1\n",
    "while i <= n:\n",
    "    if n % i == 0:\n",
    "        print(i)\n",
    "    i += 1\n"
   ]
  },
  {
   "cell_type": "code",
   "execution_count": null,
   "id": "e05844a7-5137-4548-bd85-120317ae0e8c",
   "metadata": {},
   "outputs": [],
   "source": [
    "# 15.Find the smallest number divisible by 7 and greater than 100 using while.\n",
    "n = 101\n",
    "while n % 7 != 0:\n",
    "    n += 1\n",
    "print(\"Smallest number >100 divisible by 7:\", n)\n"
   ]
  },
  {
   "cell_type": "code",
   "execution_count": null,
   "id": "f32b1049-8bbf-4ac8-99c9-d53ff1b4f53e",
   "metadata": {},
   "outputs": [],
   "source": [
    "# 16.Ask the user for integers until the sum exceeds 100. Show how many numbers it took.\n",
    "total = 0\n",
    "count = 0\n",
    "while total <= 100:\n",
    "    num = float(input(\"Enter number: \"))\n",
    "    total += num\n",
    "    count += 1\n",
    "print(\"Total numbers:\", count)\n"
   ]
  },
  {
   "cell_type": "code",
   "execution_count": null,
   "id": "69d9c349-e87b-408e-8a49-ffcd77287e9f",
   "metadata": {},
   "outputs": [],
   "source": [
    "# 17. Read numbers until the user enters the same number twice in a row.\n",
    "prev = None\n",
    "repeat = False\n",
    "while not repeat:\n",
    "    num = int(input(\"Enter a number: \"))\n",
    "    if num == prev:\n",
    "        repeat = True\n",
    "    prev = num\n",
    "print(\"Same number entered twice.\")\n"
   ]
  },
  {
   "cell_type": "code",
   "execution_count": null,
   "id": "c9b00f94-ebfe-4f13-b5bb-374478c7c251",
   "metadata": {},
   "outputs": [],
   "source": [
    "# 18.Print the first 20 Fibonacci numbers using while.\n",
    "a, b = 0, 1\n",
    "count = 0\n",
    "while count < 20:\n",
    "    print(a)\n",
    "    a, b = b, a + b\n",
    "    count += 1\n"
   ]
  },
  {
   "cell_type": "code",
   "execution_count": null,
   "id": "523a54b0-7db8-41c1-bedc-6ba74f5f1822",
   "metadata": {},
   "outputs": [],
   "source": [
    "# 19. Simulate a countdown from a number given by the user.\n",
    "n = int(input(\"Start number: \"))\n",
    "while n >= 0:\n",
    "    print(n)\n",
    "    n -= 1\n"
   ]
  },
  {
   "cell_type": "code",
   "execution_count": null,
   "id": "ff78f4e2-4d77-45e6-b9b2-b0958e20637a",
   "metadata": {},
   "outputs": [],
   "source": [
    "# 20. Ask for numbers until the user enters an odd number. Print how many were even.\n",
    "count = 0\n",
    "while True:\n",
    "    num = int(input(\"Enter a number: \"))\n",
    "    if num % 2 == 0:\n",
    "        count += 1\n",
    "    else:\n",
    "        break\n",
    "print(\"Even numbers entered:\", count)\n"
   ]
  }
 ],
 "metadata": {
  "kernelspec": {
   "display_name": "Python 3 (ipykernel)",
   "language": "python",
   "name": "python3"
  },
  "language_info": {
   "codemirror_mode": {
    "name": "ipython",
    "version": 3
   },
   "file_extension": ".py",
   "mimetype": "text/x-python",
   "name": "python",
   "nbconvert_exporter": "python",
   "pygments_lexer": "ipython3",
   "version": "3.13.2"
  }
 },
 "nbformat": 4,
 "nbformat_minor": 5
}
