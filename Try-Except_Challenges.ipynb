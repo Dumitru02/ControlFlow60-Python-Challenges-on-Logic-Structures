{
 "cells": [
  {
   "cell_type": "code",
   "execution_count": null,
   "id": "601305d7-13e8-45b8-b4c0-34014a40d496",
   "metadata": {},
   "outputs": [],
   "source": [
    "#1. Divide two numbers and handle division by zero\n",
    "\n",
    "try:\n",
    "    num1 = float(input(\"Enter the first number: \"))\n",
    "    num2 = float(input(\"Enter the second number: \"))\n",
    "    result = num1 / num2\n",
    "    print(\"Result:\", result)\n",
    "except ZeroDivisionError:\n",
    "    print(\"Error: Cannot divide by zero.\")\n"
   ]
  },
  {
   "cell_type": "code",
   "execution_count": null,
   "id": "78e4533b-fa45-42f2-ab6c-049e532a9dae",
   "metadata": {},
   "outputs": [],
   "source": [
    "#2. Validate integer input\n",
    "try:\n",
    "    num = int(input(\"Enter an integer: \"))\n",
    "    print(\"You entered:\", num)\n",
    "except ValueError:\n",
    "    print(\"Error: That is not an integer.\")\n",
    "\n",
    "\n"
   ]
  },
  {
   "cell_type": "code",
   "execution_count": null,
   "id": "57a582c5-ed14-4e85-be1e-7f446cf72df8",
   "metadata": {},
   "outputs": [],
   "source": [
    "#3. Open and read a file with error handling\n",
    "try:\n",
    "    with open(\"data.txt\", \"r\") as f:\n",
    "        print(f.read())\n",
    "except FileNotFoundError:\n",
    "    print(\"Error: File not found.\")\n"
   ]
  },
  {
   "cell_type": "code",
   "execution_count": null,
   "id": "213ac520-75a2-48e5-9779-f02c0159e89b",
   "metadata": {},
   "outputs": [],
   "source": [
    "#4. Access a dictionary key with exception handling\n",
    "\n",
    "person = {\"name\": \"John\", \"age\": 30}\n",
    "try:\n",
    "    print(\"City:\", person[\"city\"])\n",
    "except KeyError:\n",
    "    print(\"Error: 'city' key not found.\")\n"
   ]
  },
  {
   "cell_type": "code",
   "execution_count": null,
   "id": "37d629e0-673f-41f3-a32e-0240d1682eaa",
   "metadata": {},
   "outputs": [],
   "source": [
    "#5. Handle list index out of range\n",
    "\n",
    "numbers = [10, 20, 30]\n",
    "try:\n",
    "    index = int(input(\"Enter index (0–2): \"))\n",
    "    print(\"Value:\", numbers[index])\n",
    "except IndexError:\n",
    "    print(\"Error: Index out of range.\")\n",
    "except ValueError:\n",
    "    print(\"Error: Enter a valid number.\")\n"
   ]
  },
  {
   "cell_type": "code",
   "execution_count": null,
   "id": "0a801416-7025-4a86-a5bb-a65234c4f217",
   "metadata": {},
   "outputs": [],
   "source": [
    "#6. Add number to a list safely\n",
    "\n",
    "data = []\n",
    "try:\n",
    "    value = float(input(\"Enter a number: \"))\n",
    "    data.append(value)\n",
    "    print(\"List:\", data)\n",
    "except ValueError:\n",
    "    print(\"Error: Not a number.\")\n"
   ]
  },
  {
   "cell_type": "code",
   "execution_count": null,
   "id": "a154b975-0621-40fa-9f6d-b470b612a076",
   "metadata": {},
   "outputs": [],
   "source": [
    "#7. Check if a number is positive with validation\n",
    "\n",
    "try:\n",
    "    num = float(input(\"Enter a number: \"))\n",
    "    if num > 0:\n",
    "        print(\"Positive number.\")\n",
    "    else:\n",
    "        print(\"Not positive.\")\n",
    "except ValueError:\n",
    "    print(\"Error: Please enter a number.\")\n"
   ]
  },
  {
   "cell_type": "code",
   "execution_count": null,
   "id": "6d96d345-49e3-4bd0-b6ad-ddad51e3fcbb",
   "metadata": {},
   "outputs": [],
   "source": [
    "#8. Check age and raise custom error\n",
    "\n",
    "try:\n",
    "    age = int(input(\"Enter your age: \"))\n",
    "    if age < 0:\n",
    "        raise ValueError(\"Age cannot be negative.\")\n",
    "    print(\"Your age is:\", age)\n",
    "except ValueError as e:\n",
    "    print(\"Error:\", e)\n"
   ]
  },
  {
   "cell_type": "code",
   "execution_count": null,
   "id": "901f4309-7524-4836-8357-b3e1c1401e90",
   "metadata": {},
   "outputs": [],
   "source": [
    "#9. Read a number until it's correct using a loop\n",
    "\n",
    "while True:\n",
    "    try:\n",
    "        number = int(input(\"Enter a valid integer: \"))\n",
    "        break\n",
    "    except ValueError:\n",
    "        print(\"Invalid input. Try again.\")\n",
    "print(\"Valid number entered:\", number)\n"
   ]
  },
  {
   "cell_type": "code",
   "execution_count": null,
   "id": "fcf65d3a-dfe6-42ef-96ed-83bedb2c3e43",
   "metadata": {},
   "outputs": [],
   "source": [
    "#10. Safe conversion of string to float\n",
    "try:\n",
    "    val = float(input(\"Enter a decimal number: \"))\n",
    "    print(\"Converted:\", val)\n",
    "except ValueError:\n",
    "    print(\"Error: That was not a decimal number.\")\n"
   ]
  },
  {
   "cell_type": "code",
   "execution_count": null,
   "id": "b09c0244-69fe-43df-8a41-7fbfbf0b7984",
   "metadata": {},
   "outputs": [],
   "source": [
    "#11. Check if a value can be converted to int, float, or not\n",
    "\n",
    "value = input(\"Enter a value: \")\n",
    "try:\n",
    "    val = int(value)\n",
    "    print(\"Integer\")\n",
    "except ValueError:\n",
    "    try:\n",
    "        val = float(value)\n",
    "        print(\"Float\")\n",
    "    except ValueError:\n",
    "        print(\"Invalid number\")\n",
    "\n",
    "\n"
   ]
  },
  {
   "cell_type": "code",
   "execution_count": null,
   "id": "72eab850-7396-40f4-8a80-7353ff8beb78",
   "metadata": {},
   "outputs": [],
   "source": [
    "#12. Use finally to confirm end of program\n",
    "\n",
    "try:\n",
    "    a = float(input(\"Enter numerator: \"))\n",
    "    b = float(input(\"Enter denominator: \"))\n",
    "    print(\"Result:\", a / b)\n",
    "except ZeroDivisionError:\n",
    "    print(\"Cannot divide by zero.\")\n",
    "except ValueError:\n",
    "    print(\"Invalid input.\")\n",
    "finally:\n",
    "    print(\"Program ended.\")\n"
   ]
  },
  {
   "cell_type": "code",
   "execution_count": null,
   "id": "6d528a1a-6151-4f7e-b05f-b58a0e3f3754",
   "metadata": {},
   "outputs": [],
   "source": []
  }
 ],
 "metadata": {
  "kernelspec": {
   "display_name": "Python 3 (ipykernel)",
   "language": "python",
   "name": "python3"
  },
  "language_info": {
   "codemirror_mode": {
    "name": "ipython",
    "version": 3
   },
   "file_extension": ".py",
   "mimetype": "text/x-python",
   "name": "python",
   "nbconvert_exporter": "python",
   "pygments_lexer": "ipython3",
   "version": "3.13.2"
  }
 },
 "nbformat": 4,
 "nbformat_minor": 5
}
