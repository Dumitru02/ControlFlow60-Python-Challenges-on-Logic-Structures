{
 "cells": [
  {
   "cell_type": "code",
   "execution_count": 11,
   "id": "91ac21f6-e79f-4d3c-b650-ef20f96ad351",
   "metadata": {
    "jupyter": {
     "source_hidden": true
    }
   },
   "outputs": [
    {
     "name": "stdin",
     "output_type": "stream",
     "text": [
      "Enter a number:  32\n"
     ]
    },
    {
     "name": "stdout",
     "output_type": "stream",
     "text": [
      "The number is positive.\n"
     ]
    }
   ],
   "source": [
    "# 1. Check if a given number (from input) is positive, negative, or zero.\n",
    "number = float(input(\"Enter a number: \"))\n",
    "\n",
    "if number > 0:\n",
    "    print(\"The number is positive.\")\n",
    "elif number < 0:\n",
    "    print(\"The number is negative.\")\n",
    "else:\n",
    "    print(\"The number is zero.\")"
   ]
  },
  {
   "cell_type": "code",
   "execution_count": 14,
   "id": "baf2269a-3e15-4c8a-a081-69ea86caf0ff",
   "metadata": {
    "jupyter": {
     "source_hidden": true
    }
   },
   "outputs": [
    {
     "name": "stdin",
     "output_type": "stream",
     "text": [
      "Enter a number:  2\n"
     ]
    },
    {
     "name": "stdout",
     "output_type": "stream",
     "text": [
      "Is odd\n"
     ]
    }
   ],
   "source": [
    "# 2. Read a number and display whether it is even or odd.\n",
    "\n",
    "number = int(input('Enter a number: '))\n",
    "if number % 2 == 0:\n",
    "    print('Is even')\n",
    "else:\n",
    "    print('Is odd')"
   ]
  },
  {
   "cell_type": "code",
   "execution_count": 16,
   "id": "ed7d80ac-bd7b-462e-960e-2f6ce0fe842e",
   "metadata": {
    "jupyter": {
     "source_hidden": true
    }
   },
   "outputs": [
    {
     "name": "stdin",
     "output_type": "stream",
     "text": [
      "Enter the first number:  1\n",
      "Enter the second number:  45\n"
     ]
    },
    {
     "name": "stdout",
     "output_type": "stream",
     "text": [
      "Second number is greater than first number\n"
     ]
    }
   ],
   "source": [
    "#  3. Read two numbers and determine which one is greater or equal.\n",
    "\n",
    "n1 = float(input('Enter the first number: '))\n",
    "n2 = float(input('Enter the second number: '))\n",
    "if n1 > n2:\n",
    "    print('First number is greater than second number')\n",
    "elif n1 == n2:\n",
    "    print('Numbers are equal')\n",
    "else:\n",
    "    print('Second number is greater than first number')\n"
   ]
  },
  {
   "cell_type": "code",
   "execution_count": 22,
   "id": "1b008cad-8607-49dc-9e99-20b716ce5625",
   "metadata": {
    "jupyter": {
     "source_hidden": true
    }
   },
   "outputs": [
    {
     "name": "stdin",
     "output_type": "stream",
     "text": [
      "Enter your age:  32\n"
     ]
    },
    {
     "name": "stdout",
     "output_type": "stream",
     "text": [
      "adult\n"
     ]
    }
   ],
   "source": [
    "# 4. Read an age and classify the person as a child, teenager, adult, or senior.\n",
    "\n",
    "age = int(input('Enter your age: '))\n",
    "if age >=0 and age <= 14:\n",
    "    print('child')\n",
    "elif age >= 15 and age <= 17:\n",
    "    print('teenager')\n",
    "elif age >= 18 and age <= 65:\n",
    "    print('adult')\n",
    "elif age >= 65:\n",
    "    print('senior') \n",
    "else:\n",
    "    print('Please enter a valid age.')\n",
    "\n",
    "\n",
    "    \n"
   ]
  },
  {
   "cell_type": "code",
   "execution_count": 30,
   "id": "590d390d-22ea-4fcc-a8d6-4c2b0f321c79",
   "metadata": {
    "jupyter": {
     "source_hidden": true
    }
   },
   "outputs": [
    {
     "name": "stdin",
     "output_type": "stream",
     "text": [
      "Enter your grade:  2121212\n"
     ]
    },
    {
     "name": "stdout",
     "output_type": "stream",
     "text": [
      "Please enter a valid grade\n"
     ]
    }
   ],
   "source": [
    "# 5. Read a grade (0–10) and print the corresponding assessment (e.g., fail, pass, good, very good, excellent).\n",
    "grade = float(input('Enter your grade: '))\n",
    "\n",
    "if grade < 5.0:\n",
    "    print('Fail')\n",
    "elif grade == 5.0:\n",
    "    print('Pass')\n",
    "elif grade >= 6.0 and grade < 7.0:\n",
    "    print('Good')\n",
    "elif grade >= 7.0 and grade < 8.5:\n",
    "    print('Very good')\n",
    "elif grade >= 8.5 and grade <= 9.0:\n",
    "    print('Excellent')\n",
    "elif grade > 9.0 and grade <= 10:\n",
    "    print('Excellent')\n",
    "else:\n",
    "    print('Please enter a valid grade')\n",
    "\n",
    "\n",
    "\n"
   ]
  },
  {
   "cell_type": "code",
   "execution_count": 34,
   "id": "fee16fa6-52ac-4f80-bcff-eda111b0a7c4",
   "metadata": {},
   "outputs": [
    {
     "name": "stdin",
     "output_type": "stream",
     "text": [
      "Enter a character:  jdhsajkdha\n"
     ]
    },
    {
     "name": "stdout",
     "output_type": "stream",
     "text": [
      "Please enter a valid character.\n"
     ]
    }
   ],
   "source": [
    "# 6. Read a character and check if it is a vowel or consonant.\n",
    "\n",
    "char = input(\"Enter a character: \")\n",
    "\n",
    "if len(char) == 1 and char.isalpha():\n",
    "\n",
    "    if char.lower() in 'aeiou':\n",
    "        print(f\"{char} is a vowel.\")\n",
    "    else:\n",
    "        print(f\"{char} is a consonant.\")\n",
    "else:\n",
    "    print(\"Please enter a valid character.\")\n",
    "\n"
   ]
  },
  {
   "cell_type": "code",
   "execution_count": 36,
   "id": "d6e60c24-5dca-41c2-94fc-57a9ba25a942",
   "metadata": {
    "collapsed": true,
    "jupyter": {
     "outputs_hidden": true,
     "source_hidden": true
    }
   },
   "outputs": [
    {
     "name": "stdin",
     "output_type": "stream",
     "text": [
      "Enter the first number 1\n",
      "Enter the second number 3\n",
      "Enter the tree number 4\n"
     ]
    },
    {
     "name": "stdout",
     "output_type": "stream",
     "text": [
      "the second number is largest\n"
     ]
    }
   ],
   "source": [
    "# 7. Read three numbers and determine which one is the largest.\n",
    "\n",
    "nr1 = float(input('Enter the first number: '))\n",
    "nr2 = float(input('Enter the second number: '))\n",
    "nr3 = float(input('Enter the third number: '))\n",
    "\n",
    "if nr1 > nr2 and nr1 > nr3:\n",
    "    print('The first number is the largest')\n",
    "elif nr2 > nr3 and nr2 > nr1:\n",
    "    print('The second number is the largest')\n",
    "else:\n",
    "    print('The third number is the largest')\n"
   ]
  },
  {
   "cell_type": "code",
   "execution_count": 37,
   "id": "b4a83780-991c-4b91-ae19-5dad0d72fb75",
   "metadata": {},
   "outputs": [
    {
     "name": "stdin",
     "output_type": "stream",
     "text": [
      "Enter a year:  2000\n"
     ]
    },
    {
     "name": "stdout",
     "output_type": "stream",
     "text": [
      "2000 is a leap year.\n"
     ]
    }
   ],
   "source": [
    "# 8.Check whether a given year is a leap year.\n",
    "\n",
    "def is_leap_year(year):\n",
    "    if (year % 4 == 0 and year % 100 != 0) or (year % 400 == 0):\n",
    "        return True\n",
    "    else:\n",
    "        return False\n",
    "\n",
    "\n",
    "year = int(input(\"Enter a year: \"))\n",
    "if is_leap_year(year):\n",
    "    print(f\"{year} is a leap year.\")\n",
    "else:\n",
    "    print(f\"{year} is not a leap year.\")\n",
    "\n"
   ]
  },
  {
   "cell_type": "code",
   "execution_count": 38,
   "id": "83350f2c-0521-4f8f-a6c8-c653a7c50925",
   "metadata": {},
   "outputs": [],
   "source": [
    "# 9. Read a score and print the level (e.g., <50: fail, 50–70: average, 71–90: good, >90: excellent).\n",
    "\n",
    "score = float(input(\"Enter the score: \"))\n",
    "\n",
    "if score < 50:\n",
    "    print(\"Fail\")\n",
    "elif score <= 70:\n",
    "    print(\"Average\")\n",
    "elif score <= 90:\n",
    "    print(\"Good\")\n",
    "else:\n",
    "    print(\"Excellent\")\n"
   ]
  },
  {
   "cell_type": "code",
   "execution_count": 40,
   "id": "22d82f44-3e50-4ade-88a4-867648f22cb4",
   "metadata": {},
   "outputs": [],
   "source": [
    "# 10.Read the name of a day of the week and say if it is a weekday or weekend.\n",
    "\n",
    "day = input(\"Enter a day: \").lower()\n",
    "\n",
    "if day in ['saturday', 'sunday']:\n",
    "    print(\"Weekend\")\n",
    "elif day in ['monday', 'tuesday', 'wednesday', 'thursday', 'friday']:\n",
    "    print(\"Weekday\")\n",
    "else:\n",
    "    print(\"Invalid day\")\n"
   ]
  },
  {
   "cell_type": "code",
   "execution_count": null,
   "id": "da50eb5a-c6c7-4c09-ba80-b985215d1850",
   "metadata": {},
   "outputs": [],
   "source": [
    "# 11.Read a PIN code and check if it matches a predefined value.\n",
    "\n",
    "pin = input(\"Enter your PIN: \")\n",
    "\n",
    "if pin == \"1234\":\n",
    "    print(\"Access granted\")\n",
    "else:\n",
    "    print(\"Incorrect PIN\")\n",
    "    \n"
   ]
  },
  {
   "cell_type": "code",
   "execution_count": null,
   "id": "5dab7986-584f-4185-8ec0-bbc413e4fcb7",
   "metadata": {},
   "outputs": [],
   "source": [
    "# 12.Read a temperature and classify it as cold, moderate, warm, or hot.\n",
    "\n",
    "temp = float(input(\"Enter the temperature in °C: \"))\n",
    "\n",
    "if temp < 10:\n",
    "    print(\"Cold\")\n",
    "elif temp <= 20:\n",
    "    print(\"Moderate\")\n",
    "elif temp <= 30:\n",
    "    print(\"Warm\")\n",
    "else:\n",
    "    print(\"Hot\")\n"
   ]
  },
  {
   "cell_type": "code",
   "execution_count": null,
   "id": "b59b6eeb-603d-4c26-8a23-b252815f8b7c",
   "metadata": {},
   "outputs": [],
   "source": [
    "# 13.Read two values and print whether they are equal or not.\n",
    "\n",
    "a = input(\"Enter first value: \")\n",
    "b = input(\"Enter second value: \")\n",
    "\n",
    "if a == b:\n",
    "    print(\"Equal\")\n",
    "else:\n",
    "    print(\"Not equal\")\n"
   ]
  },
  {
   "cell_type": "code",
   "execution_count": null,
   "id": "230de5c1-8ae2-4659-81ec-7d28147c059e",
   "metadata": {},
   "outputs": [],
   "source": [
    "# 14.Read a character and say if it is a lowercase letter, uppercase letter, or something else.\n",
    "\n",
    "char = input(\"Enter a character: \")\n",
    "\n",
    "if char.islower():\n",
    "    print(\"Lowercase letter\")\n",
    "elif char.isupper():\n",
    "    print(\"Uppercase letter\")\n",
    "else:\n",
    "    print(\"Not a letter\")\n"
   ]
  },
  {
   "cell_type": "code",
   "execution_count": null,
   "id": "c5126ea1-07c4-470b-8271-e2291d66efe3",
   "metadata": {},
   "outputs": [],
   "source": [
    "# 15.Read an age and say if the person is allowed to vote (>=18).\n",
    "\n",
    "age = int(input(\"Enter your age: \"))\n",
    "\n",
    "if age >= 18:\n",
    "    print(\"Allowed to vote\")\n",
    "else:\n",
    "    print(\"Not allowed to vote\")\n"
   ]
  },
  {
   "cell_type": "code",
   "execution_count": null,
   "id": "cfcd9fbb-08de-4776-976a-c919b3871870",
   "metadata": {},
   "outputs": [],
   "source": [
    "# 16.Read a test score and say if the person passed (>=60).\n",
    "\n",
    "score = float(input(\"Enter test score: \"))\n",
    "\n",
    "if score >= 60:\n",
    "    print(\"Passed\")\n",
    "else:\n",
    "    print(\"Failed\")\n"
   ]
  },
  {
   "cell_type": "code",
   "execution_count": null,
   "id": "e613d0e6-6719-4cf6-860f-434e004a0492",
   "metadata": {},
   "outputs": [],
   "source": [
    "# 17.Read a grade and check if it is valid (between 0 and 10 inclusive).\n",
    "\n",
    "grade = float(input(\"Enter grade: \"))\n",
    "\n",
    "if 0 <= grade <= 10:\n",
    "    print(\"Valid grade\")\n",
    "else:\n",
    "    print(\"Invalid grade\")\n"
   ]
  },
  {
   "cell_type": "code",
   "execution_count": 41,
   "id": "1889e04c-b892-437a-a642-ff849f8395b3",
   "metadata": {},
   "outputs": [],
   "source": [
    "# 18.Read a character and check if it is a digit.\n",
    "\n",
    "char = input(\"Enter a character: \")\n",
    "\n",
    "if char.isdigit():\n",
    "    print(\"Digit\")\n",
    "else:\n",
    "    print(\"Not a digit\")\n",
    "\n",
    "\n"
   ]
  },
  {
   "cell_type": "code",
   "execution_count": null,
   "id": "b3dc6c43-a6c7-46ab-9979-7d5c8c968ef1",
   "metadata": {},
   "outputs": [],
   "source": [
    "# 19.Read an hour (0–23) and classify it as morning, noon, afternoon, or evening.\n",
    "\n",
    "hour = int(input(\"Enter hour (0–23): \"))\n",
    "\n",
    "if 0 <= hour < 12:\n",
    "    print(\"Morning\")\n",
    "elif hour == 12:\n",
    "    print(\"Noon\")\n",
    "elif hour < 18:\n",
    "    print(\"Afternoon\")\n",
    "elif hour <= 23:\n",
    "    print(\"Evening\")\n",
    "else:\n",
    "    print(\"Invalid hour\")\n"
   ]
  },
  {
   "cell_type": "code",
   "execution_count": null,
   "id": "d8ef887a-7e0a-4bb9-ae61-46f94b304d17",
   "metadata": {},
   "outputs": [],
   "source": [
    "# 20.Read a year and determine what century it is in.\n",
    "\n",
    "year = int(input(\"Enter a year: \"))\n",
    "\n",
    "if year > 0:\n",
    "    century = (year - 1) // 100 + 1\n",
    "    print(f\"The year {year} is in the {century}th century.\")\n",
    "else:\n",
    "    print(\"Invalid year\")\n",
    "\n"
   ]
  }
 ],
 "metadata": {
  "kernelspec": {
   "display_name": "Python 3 (ipykernel)",
   "language": "python",
   "name": "python3"
  },
  "language_info": {
   "codemirror_mode": {
    "name": "ipython",
    "version": 3
   },
   "file_extension": ".py",
   "mimetype": "text/x-python",
   "name": "python",
   "nbconvert_exporter": "python",
   "pygments_lexer": "ipython3",
   "version": "3.13.2"
  }
 },
 "nbformat": 4,
 "nbformat_minor": 5
}
