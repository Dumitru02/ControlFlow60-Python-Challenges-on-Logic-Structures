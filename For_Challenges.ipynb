{
 "cells": [
  {
   "cell_type": "code",
   "execution_count": null,
   "id": "ce67b50a-ff1e-4d8b-9682-27cb6646b0b8",
   "metadata": {
    "collapsed": true,
    "jupyter": {
     "outputs_hidden": true,
     "source_hidden": true
    }
   },
   "outputs": [],
   "source": [
    "# 1.Print numbers from 1 to 10 using a for loop.\n",
    "\n",
    "for i in range(1,11):\n",
    "    print(i)"
   ]
  },
  {
   "cell_type": "code",
   "execution_count": null,
   "id": "93555390-7cbe-4be6-9dfb-399f79e88916",
   "metadata": {
    "collapsed": true,
    "jupyter": {
     "outputs_hidden": true,
     "source_hidden": true
    },
    "scrolled": true
   },
   "outputs": [],
   "source": [
    "# 2. Calculate the sum of numbers from 1 to 100.\n",
    "sum = 0 \n",
    "for i in range(1,101):\n",
    "    sum += i\n",
    "print(sum)\n"
   ]
  },
  {
   "cell_type": "code",
   "execution_count": null,
   "id": "f8ab7424-3836-4ca4-85ca-d533328bf11d",
   "metadata": {
    "collapsed": true,
    "jupyter": {
     "outputs_hidden": true,
     "source_hidden": true
    }
   },
   "outputs": [],
   "source": [
    "# 3.Calculate the factorial of a given number (input from the user).\n",
    "n = int(input(\"Enter a number: \"))\n",
    "\n",
    "factorial = 1\n",
    "\n",
    "if n < 0:\n",
    "    print(\"Factorial is not defined for negative numbers.\")\n",
    "elif n == 0:\n",
    "    print(\"The factorial of 0 is 1.\")\n",
    "else:\n",
    "    for i in range(1, n + 1):\n",
    "        factorial *= i\n",
    "    print(f\"The factorial of {n} is {factorial}.\")\n",
    "\n",
    "    "
   ]
  },
  {
   "cell_type": "code",
   "execution_count": null,
   "id": "b4dfac81-02db-45a5-b63e-f7af500bf5bd",
   "metadata": {
    "collapsed": true,
    "jupyter": {
     "outputs_hidden": true,
     "source_hidden": true
    }
   },
   "outputs": [],
   "source": [
    "# 4.Print all even numbers between 1 and 50.\n",
    "\n",
    "for i in range(2,51,2):\n",
    "    print(i)\n",
    "  \n",
    "   "
   ]
  },
  {
   "cell_type": "code",
   "execution_count": null,
   "id": "11d255d6-c324-4d91-9783-d69621186e33",
   "metadata": {
    "collapsed": true,
    "jupyter": {
     "outputs_hidden": true,
     "source_hidden": true
    }
   },
   "outputs": [],
   "source": [
    "# 5. Print all odd numbers between 1 and 50.\n",
    "\n",
    "for i in range(1,51,2):\n",
    "    print(i)\n"
   ]
  },
  {
   "cell_type": "code",
   "execution_count": null,
   "id": "c5eaec37-9152-42eb-914d-cb4d593c4759",
   "metadata": {
    "collapsed": true,
    "jupyter": {
     "outputs_hidden": true,
     "source_hidden": true
    }
   },
   "outputs": [],
   "source": [
    "# 6.Print the multiplication table of a given number (e.g., for 5 → 5x1, 5x2, ..., 5x10).\n",
    "\n",
    "n = int(input(\"Enter a number: \"))\n",
    "\n",
    "for x in range(0,11):\n",
    "   print(f\"{n} x {x} = {n * x}\")\n",
    "   \n",
    "    \n",
    "   \n",
    "    "
   ]
  },
  {
   "cell_type": "code",
   "execution_count": null,
   "id": "7359f169-428f-4bcc-acb9-cffa70e8677e",
   "metadata": {
    "collapsed": true,
    "jupyter": {
     "outputs_hidden": true,
     "source_hidden": true
    }
   },
   "outputs": [],
   "source": [
    "# 7.Check if a number is prime \n",
    "\n",
    "number = int(input(\"Enter a number: \"))\n",
    "\n",
    "if number > 1:  \n",
    "    is_prime = True \n",
    "    for x in range(2, number):  \n",
    "        if number % x == 0:  \n",
    "            is_prime = False\n",
    "            break  \n",
    "    if is_prime:\n",
    "        print(\"The number is prime.\")\n",
    "    else:\n",
    "          print(\"The number is not prime.\")\n",
    "\n",
    "    "
   ]
  },
  {
   "cell_type": "code",
   "execution_count": null,
   "id": "348b6e8f-2f57-4a14-9bf4-6ff92617e5ee",
   "metadata": {
    "collapsed": true,
    "jupyter": {
     "outputs_hidden": true,
     "source_hidden": true
    }
   },
   "outputs": [],
   "source": [
    "# 8.Print all prime numbers between 2 and 50.\n",
    "\n",
    "for num in range(2, 51):\n",
    "    is_prime = True\n",
    "    for i in range(2, int(num ** 0.5) + 1):\n",
    "        if num % i == 0:\n",
    "            is_prime = False\n",
    "            break\n",
    "    if is_prime:\n",
    "        print(num)\n"
   ]
  },
  {
   "cell_type": "code",
   "execution_count": null,
   "id": "612a7691-b567-4962-b61a-5d1d22cc958b",
   "metadata": {},
   "outputs": [],
   "source": [
    "# 9. Print each digit of a given number (e.g., 123 → 1, 2, 3).\n",
    "num = input(\"Enter a number: \")\n",
    "for digit in num:\n",
    "    print(digit)\n",
    "\n"
   ]
  },
  {
   "cell_type": "code",
   "execution_count": null,
   "id": "f82f6deb-4936-4f3c-baf6-937b88393e5c",
   "metadata": {},
   "outputs": [],
   "source": [
    "# 10.Print the sum of the digits of an integer.\n",
    "\n",
    "num = input(\"Enter an integer: \")\n",
    "\n",
    "sum_digits = 0\n",
    "\n",
    "for digit in num:\n",
    "    if digit.isdigit():  \n",
    "        sum_digits += int(digit)\n",
    "\n",
    "print(f\"The sum of the digits is {sum_digits}\")  \n",
    "    "
   ]
  },
  {
   "cell_type": "code",
   "execution_count": null,
   "id": "d575007d-b0c3-415e-8be8-43875e107ba4",
   "metadata": {},
   "outputs": [],
   "source": [
    "#11. Reverse the digits of a number (e.g., 123 → 321).\n",
    "\n",
    "num = input(\"Enter a number: \")\n",
    "reversed_num = num[::-1]\n",
    "print(f\"Reversed number: {reversed_num}\")\n"
   ]
  },
  {
   "cell_type": "code",
   "execution_count": null,
   "id": "55ef2886-ecdd-4431-83a7-dbc3680cf567",
   "metadata": {},
   "outputs": [],
   "source": [
    "# 12. Print powers of 2 from 2⁰ to 2¹⁰\n",
    "\n",
    "for i in range(11):\n",
    "    print(f\"2^{i} = {2 ** i}\")\n",
    "\n"
   ]
  },
  {
   "cell_type": "code",
   "execution_count": null,
   "id": "7cff6c03-2b67-420b-af3f-ac777850c9e3",
   "metadata": {},
   "outputs": [],
   "source": [
    "# 13. Print all divisors of a given number\n",
    "\n",
    "num = int(input(\"Enter a number: \"))\n",
    "for i in range(1, num + 1):\n",
    "    if num % i == 0:\n",
    "        print(i)\n"
   ]
  },
  {
   "cell_type": "code",
   "execution_count": null,
   "id": "c315b099-ee03-4ce6-bd35-688779c3e1ad",
   "metadata": {},
   "outputs": [],
   "source": [
    "# 14. Check if a number is a palindrome\n",
    "\n",
    "num = input(\"Enter a number: \")\n",
    "if num == num[::-1]:\n",
    "    print(\"It's a palindrome.\")\n",
    "else:\n",
    "    print(\"Not a palindrome.\")\n"
   ]
  },
  {
   "cell_type": "code",
   "execution_count": null,
   "id": "78abd14c-1175-4b49-8af0-51d8a3735891",
   "metadata": {},
   "outputs": [],
   "source": [
    "# 15. Print a right-aligned triangle of stars with n rows\n",
    "\n",
    "n = int(input(\"Enter number of rows: \"))\n",
    "for i in range(1, n + 1):\n",
    "    print(\" \" * (n - i) + \"*\" * i)\n"
   ]
  },
  {
   "cell_type": "code",
   "execution_count": 120,
   "id": "6946f012-fc99-4862-b453-3299993127cb",
   "metadata": {},
   "outputs": [
    {
     "name": "stdout",
     "output_type": "stream",
     "text": [
      "*\n",
      "**\n",
      "***\n",
      "****\n",
      "*****\n"
     ]
    }
   ],
   "source": [
    "for i in range(1, 6):\n",
    "    print(\"*\" * i)\n"
   ]
  },
  {
   "cell_type": "code",
   "execution_count": 121,
   "id": "89024b99-d5db-4f05-8bca-8304be63c930",
   "metadata": {},
   "outputs": [
    {
     "name": "stdout",
     "output_type": "stream",
     "text": [
      "Enter number of rows:  5\n"
     ]
    },
    {
     "name": "stdout",
     "output_type": "stream",
     "text": [
      "    *\n",
      "   ***\n",
      "  *****\n",
      " *******\n",
      "*********\n"
     ]
    }
   ],
   "source": [
    "#17. Print a centered pyramid of stars with n rows.\n",
    "n = int(input(\"Enter number of rows: \"))\n",
    "for i in range(1, n + 1):\n",
    "    print(\" \" * (n - i) + \"*\" * (2 * i - 1))\n"
   ]
  },
  {
   "cell_type": "code",
   "execution_count": null,
   "id": "3c253eb1-f852-4ee1-9f17-c8dc03aeb7cb",
   "metadata": {},
   "outputs": [],
   "source": [
    "# 18.Find the greatest common divisor (GCD) of two numbers using a for loop.\n",
    "a = int(input(\"Enter first number: \"))\n",
    "b = int(input(\"Enter second number: \"))\n",
    "\n",
    "gcd = 1\n",
    "for i in range(1, min(a, b) + 1):\n",
    "    if a % i == 0 and b % i == 0:\n",
    "        gcd = i\n",
    "\n",
    "print(f\"GCD of {a} and {b} is {gcd}\")\n"
   ]
  },
  {
   "cell_type": "code",
   "execution_count": null,
   "id": "1dc62376-adec-4655-9622-2ef7e8d7d5da",
   "metadata": {},
   "outputs": [],
   "source": [
    "#  Print all multiples of 7 between 1 and 100\n",
    "for i in range(7, 101, 7):\n",
    "    print(i)\n"
   ]
  },
  {
   "cell_type": "code",
   "execution_count": null,
   "id": "9553dc74-4555-4515-9402-65c99f1b3ca2",
   "metadata": {},
   "outputs": [],
   "source": [
    "# 19 Print all perfect squares between 1 and 100\n",
    "for i in range(1, 101):\n",
    "    if int(i ** 0.5) ** 2 == i:\n",
    "        print(i)\n"
   ]
  },
  {
   "cell_type": "code",
   "execution_count": null,
   "id": "4666d2c6-1142-4425-9381-fe54bf4b6d54",
   "metadata": {},
   "outputs": [],
   "source": [
    "#20 Check if a number contains the digit 7\n",
    "num = input(\"Enter a number: \")\n",
    "if '7' in num:\n",
    "    print(\"The number contains 7.\")\n",
    "else:\n",
    "    print(\"The number does not contain 7.\")\n"
   ]
  }
 ],
 "metadata": {
  "kernelspec": {
   "display_name": "Python 3 (ipykernel)",
   "language": "python",
   "name": "python3"
  },
  "language_info": {
   "codemirror_mode": {
    "name": "ipython",
    "version": 3
   },
   "file_extension": ".py",
   "mimetype": "text/x-python",
   "name": "python",
   "nbconvert_exporter": "python",
   "pygments_lexer": "ipython3",
   "version": "3.13.2"
  }
 },
 "nbformat": 4,
 "nbformat_minor": 5
}
